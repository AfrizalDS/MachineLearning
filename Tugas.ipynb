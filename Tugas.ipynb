{
  "nbformat": 4,
  "nbformat_minor": 0,
  "metadata": {
    "colab": {
      "provenance": [],
      "authorship_tag": "ABX9TyO5e1VeBwyqs5GNyKdHhUKT",
      "include_colab_link": true
    },
    "kernelspec": {
      "name": "python3",
      "display_name": "Python 3"
    },
    "language_info": {
      "name": "python"
    }
  },
  "cells": [
    {
      "cell_type": "markdown",
      "metadata": {
        "id": "view-in-github",
        "colab_type": "text"
      },
      "source": [
        "<a href=\"https://colab.research.google.com/github/AfrizalDS/MachineLearning/blob/Jobsheet-6/Tugas.ipynb\" target=\"_parent\"><img src=\"https://colab.research.google.com/assets/colab-badge.svg\" alt=\"Open In Colab\"/></a>"
      ]
    },
    {
      "cell_type": "markdown",
      "source": [
        "# **Tugas**\n",
        "**Nama : Afrizal Dwi Septian**  \n",
        "**NIM : 2241720122**   \n",
        "**Kelas : TI-3A**\n",
        "\n",
        "## **Tugas 1**\n",
        "Terdapat dataset mushroom. Berdasarkan dataset yang tersebut, bandingkan peforma antara algoritma Decision Tree dan RandomForest. Gunakan tunning hyperparameter untuk mendapatkan parameter dan akurasi yang terbaik.\n",
        "\n",
        "## **Tugas 2**\n",
        "Terdapat dataset mushroom. Berdasarkan dataset tersebut, bandingkan peforma antara algoritma Decision Tree dan AdaBoost. Gunakan tunning hyperparameter untuk mendapatkan parameter dan akurasi yang terbaik.\n",
        "\n",
        "## **Tugas 3**\n",
        "Dengan menggunakan dataset diabetes, buatlah ensemble voting dengan algoritma\n",
        "\n",
        "1.   Logistic Regression\n",
        "\n",
        "1.   SVM kernel polynomial\n",
        "\n",
        "1.   Decission Tree\n",
        "\n",
        "Anda boleh melakukan eksplorasi dengan melakukan tunning hyperparameter"
      ],
      "metadata": {
        "id": "1RLhhgppFGjM"
      }
    },
    {
      "cell_type": "code",
      "execution_count": null,
      "metadata": {
        "id": "MENxlgERFFOs"
      },
      "outputs": [],
      "source": []
    }
  ]
}