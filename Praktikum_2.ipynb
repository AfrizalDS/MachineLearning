{
  "nbformat": 4,
  "nbformat_minor": 0,
  "metadata": {
    "colab": {
      "provenance": [],
      "authorship_tag": "ABX9TyNmvF+EbFMJFzqhu5kfykjn",
      "include_colab_link": true
    },
    "kernelspec": {
      "name": "python3",
      "display_name": "Python 3"
    },
    "language_info": {
      "name": "python"
    }
  },
  "cells": [
    {
      "cell_type": "markdown",
      "metadata": {
        "id": "view-in-github",
        "colab_type": "text"
      },
      "source": [
        "<a href=\"https://colab.research.google.com/github/AfrizalDS/MachineLearning/blob/Jobsheet-10/Praktikum_2.ipynb\" target=\"_parent\"><img src=\"https://colab.research.google.com/assets/colab-badge.svg\" alt=\"Open In Colab\"/></a>"
      ]
    },
    {
      "cell_type": "markdown",
      "source": [
        "## **Nama Anggota Kelompok**\n",
        "1.   Afrizal Dwi Septian /2241720122\n",
        "2.   Dennis Parulian Panjaitan / 2241720182\n",
        "2.   Dido Imam Padmanegara / 2241720111\n",
        "2.   Muhammad Paksi / 2241720150\n"
      ],
      "metadata": {
        "id": "YHlSV6Ekgfnt"
      }
    },
    {
      "cell_type": "markdown",
      "source": [
        "# **Praktikum 2**\n",
        "## Generator Teks dengan RNN\n",
        "Praktikum ini mendemonstrasikan cara melakukan genearsi text menggunakan RNN. Dataset yang digunkan adalah dataset Shakespeare's writing from Andrej Karpathy's The Unreasonable Effectiveness of Recurrent Neural Networks. Jika diberikan urutan karakter dari data ini (\"Shakespear\"), latih model untuk memprediksi karakter berikutnya dalam urutan (\"e\"). Urutan teks yang lebih panjang dapat dihasilkan dengan memanggil model berulang kali.\n",
        "\n",
        "Note: Enable GPU acceleration to execute this notebook faster. In Colab: Runtime > Change runtime type > Hardware accelerator > GPU.\n",
        "  \n",
        "Tutorial ini menggunakan tf.keras dan eager execution. Berikut adalah contoh output ketika model dalam tutorial ini dilatih selama 30 epoch, dan dimulai dengan prompt \"Q\":\n"
      ],
      "metadata": {
        "id": "zJrM6bWWgi4-"
      }
    },
    {
      "cell_type": "markdown",
      "source": [
        "\n",
        "\n",
        "```\n",
        "# QUEENE:\n",
        "I had thought thou hadst a Roman; for the oracle,\n",
        "Thus by All bids the man against the word,\n",
        "Which are so weak of care, by old care done;\n",
        "Your children were in your holy love,\n",
        "And the precipitation through the bleeding throne.\n",
        "\n",
        "BISHOP OF ELY:\n",
        "Marry, and will, my lord, to weep in such a one were prettiest;\n",
        "Yet now I was adopted heir\n",
        "Of the world's lamentable day,\n",
        "To watch the next way with his father with his face?\n",
        "\n",
        "ESCALUS:\n",
        "The cause why then we are all resolved more sons.\n",
        "\n",
        "VOLUMNIA:\n",
        "O, no, no, no, no, no, no, no, no, no, no, no, no, no, no, no, no, no, no, no, no, it is no sin it should be dead,\n",
        "And love and pale as any will to that word.\n",
        "\n",
        "QUEEN ELIZABETH:\n",
        "But how long have I heard the soul for this world,\n",
        "And show his hands of life be proved to stand.\n",
        "\n",
        "PETRUCHIO:\n",
        "I say he look'd on, if I must be content\n",
        "To stay him from the fatal of our country's bliss.\n",
        "His lordship pluck'd from this sentence then for prey,\n",
        "And then let us twain, being the moon,\n",
        "were she such a case as fills m\n",
        "```\n",
        "\n"
      ],
      "metadata": {
        "id": "4FGJYrQAgq7w"
      }
    },
    {
      "cell_type": "markdown",
      "source": [
        "Meskipun beberapa kalimat memiliki tata bahasa, sebagian besar tidak masuk akal. Model belum mempelajari arti kata-kata, namun anggap saja:\n",
        "- Modelnya berbasis karakter. Saat pelatihan dimulai, model tidak mengetahui cara mengeja kata dalam bahasa Inggris, atau bahkan kata-kata tersebut merupakan satuan teks.\n",
        "- Struktur keluarannya menyerupai sandiwara—blok teks umumnya dimulai dengan nama pembicara, dengan huruf kapital semua mirip dengan kumpulan data.\n",
        "- Seperti yang ditunjukkan di bawah, model dilatih pada kumpulan teks kecil (masing-masing 100 karakter), dan masih mampu menghasilkan rangkaian teks yang lebih panjang dengan struktur yang koheren.\n"
      ],
      "metadata": {
        "id": "Xc1zKPNahV9Z"
      }
    },
    {
      "cell_type": "markdown",
      "source": [
        "# **Setup**\n",
        "Import TensorFlow"
      ],
      "metadata": {
        "id": "tWMcAI7ThaAQ"
      }
    },
    {
      "cell_type": "code",
      "execution_count": null,
      "metadata": {
        "id": "s6CCUOplcm7Q"
      },
      "outputs": [],
      "source": [
        "import tensorflow as tf\n",
        "import numpy as np\n",
        "import os\n",
        "import time"
      ]
    },
    {
      "cell_type": "markdown",
      "source": [
        "**Download Dataset Shakespeare**\n",
        "Sesuaikan dengan lokasi data yang Anda punya."
      ],
      "metadata": {
        "id": "spVeEfVOhmGS"
      }
    },
    {
      "cell_type": "code",
      "source": [
        "path_to_file=tf.keras.utils.get_file('shakespeare.txt',\n",
        "                                     'https://storage.googleapis.com/download.tensorflow.org/data/shakespeare.txt')\n"
      ],
      "metadata": {
        "id": "X5nEwITzhmOJ"
      },
      "execution_count": null,
      "outputs": []
    },
    {
      "cell_type": "markdown",
      "source": [
        "## **Load Data**"
      ],
      "metadata": {
        "id": "JoUIhevFhthD"
      }
    },
    {
      "cell_type": "code",
      "source": [
        "# Read, then decode for py2 compat.\n",
        "text = open(path_to_file, 'rb').read().decode(encoding='utf-8')\n",
        "# length of text is the number of characters in it\n",
        "print(f'Length of text: {len(text)} characters')"
      ],
      "metadata": {
        "id": "q28Aq3YFhyps"
      },
      "execution_count": null,
      "outputs": []
    },
    {
      "cell_type": "code",
      "source": [
        "# Take a look at the first 250 characters in text\n",
        "print(text[:250])"
      ],
      "metadata": {
        "id": "nsHL4Hczh1UV"
      },
      "execution_count": null,
      "outputs": []
    },
    {
      "cell_type": "code",
      "source": [
        "# The unique characters in the file\n",
        "vocab = sorted(set(text))\n",
        "print(f'{len(vocab)} unique characters')"
      ],
      "metadata": {
        "id": "ldt_3WpZh27r"
      },
      "execution_count": null,
      "outputs": []
    },
    {
      "cell_type": "markdown",
      "source": [
        "## **Olah Teks**\n",
        "**Vectorize Teks**  \n",
        "Sebelum training, Anda perlu mengonversi string menjadi representasi numerik. tf.keras.layers.StringLookup dapat mengubah setiap karakter menjadi ID numerik. Caranya adalah teks akan dipecah menjadi token terlebih dahulu."
      ],
      "metadata": {
        "id": "nogp7zx1h4Ff"
      }
    },
    {
      "cell_type": "code",
      "source": [
        "example_texts = ['abcdefg', 'xyz']\n",
        "chars = tf.strings.unicode_split(example_texts, input_encoding='UTF-8')\n",
        "chars"
      ],
      "metadata": {
        "id": "inC21dOFiO-8"
      },
      "execution_count": null,
      "outputs": []
    },
    {
      "cell_type": "markdown",
      "source": [
        "sekarang buat tf.keras.layers.StringLookup layer:"
      ],
      "metadata": {
        "id": "jqhgOW0CiLaX"
      }
    },
    {
      "cell_type": "code",
      "source": [
        "ids_from_chars = tf.keras.layers.StringLookup(vocabulary=list(vocab), mask_token=None)"
      ],
      "metadata": {
        "id": "9TWPSzluikF0"
      },
      "execution_count": null,
      "outputs": []
    },
    {
      "cell_type": "markdown",
      "source": [
        "perintah diatas mengconvert token menjadi id"
      ],
      "metadata": {
        "id": "EnIiP209inUS"
      }
    },
    {
      "cell_type": "code",
      "source": [
        "ids=ids_from_chars(chars)\n",
        "ids"
      ],
      "metadata": {
        "id": "XIhgu171iph2"
      },
      "execution_count": null,
      "outputs": []
    },
    {
      "cell_type": "markdown",
      "source": [
        "Karena tujuan tutorial ini adalah untuk menghasilkan teks, penting juga untuk membalikkan representasi ini. Untuk ini Anda dapat menggunakan kode tf.keras.layers.StringLookup(..., invert=True).\n",
        "\n",
        "Catatan: pada kode ini, daripada meneruskan kosakata asli yang dihasilkan dengan diurutkan(set(teks)) gunakan metode get_vocabulary() dari tf.keras.layers.StringLookup sehingga token [UNK] disetel dengan cara yang sama."
      ],
      "metadata": {
        "id": "HpUdGncTisDZ"
      }
    },
    {
      "cell_type": "code",
      "source": [
        "chars_from_ids = tf.keras.layers.StringLookup(\n",
        "    vocabulary=ids_from_chars.get_vocabulary(), invert=True, mask_token=None)"
      ],
      "metadata": {
        "id": "TILyAlbbitsH"
      },
      "execution_count": null,
      "outputs": []
    },
    {
      "cell_type": "markdown",
      "source": [
        "Lapisan ini mengconvert kembali karakter dari vektor ID, dan mengembalikannya sebagai karakter tf.RaggedTensor:"
      ],
      "metadata": {
        "id": "m0GGVDa_iu4o"
      }
    },
    {
      "cell_type": "code",
      "source": [
        "chars=chars_from_ids(ids)\n",
        "chars"
      ],
      "metadata": {
        "id": "KCs_YhjciydR"
      },
      "execution_count": null,
      "outputs": []
    },
    {
      "cell_type": "markdown",
      "source": [
        "Anda dapat menggunakan tf.strings.reduce_join untuk menggabungkan kembali karakter menjadi string."
      ],
      "metadata": {
        "id": "ffBSadDviv7g"
      }
    },
    {
      "cell_type": "code",
      "source": [
        "tf.strings.reduce_join(chars,axis=-1).numpy()"
      ],
      "metadata": {
        "id": "-nqorV5oi4Ht"
      },
      "execution_count": null,
      "outputs": []
    },
    {
      "cell_type": "code",
      "source": [
        "def text_from_ids(ids):\n",
        "    return tf.strings.reduce_join(chars_from_ids(ids), axis=-1)"
      ],
      "metadata": {
        "id": "NCeFP31Gi8sD"
      },
      "execution_count": null,
      "outputs": []
    },
    {
      "cell_type": "markdown",
      "source": [
        "**Prediksi**\n",
        "\n",
        "Diberikan sebuah karakter, atau serangkaian karakter, karakter apa yang paling mungkin berikutnya? Ini adalah tugas yang harus Anda latih agar model dapat melakukannya. Masukan ke model akan berupa urutan karakter, dan Anda melatih model untuk memprediksi keluaran berupa karakter berikut pada setiap langkah waktu. Karena RNN mempertahankan keadaan internal yang bergantung pada elemen yang terlihat sebelumnya, mengingat semua karakter dihitung hingga saat ini, karakter apa selanjutnya?\n",
        "\n",
        "**Membuat Trianing Set dan Target**\n",
        "\n",
        "Selanjutnya bagilah teks menjadi contoh sequence. Setiap masukan sequence akan berisi karakter seq_length dari teks. Untuk setiap masukan sequence, target prediksi berisi teks dengan panjang yang sama, hanya digeser satu karakter ke kanan. Jadi, bagi teks menjadi beberapa bagian seq_length+1. Misalnya, seq_length adalah 4 dan teks kita adalah \"Hello\". Urutan masukannya adalah \"Hell\", dan urutan targetnya adalah \"ello\". Untuk melakukan ini, pertama-tama gunakan fungsi tf.data.Dataset.from_tensor_slices untuk mengonversi vektor teks menjadi aliran indeks karakter."
      ],
      "metadata": {
        "id": "XyX3hRp4jAwb"
      }
    },
    {
      "cell_type": "code",
      "source": [
        "all_ids = ids_from_chars(tf.strings.unicode_split(text, 'UTF-8'))\n",
        "all_ids"
      ],
      "metadata": {
        "id": "BZ7hIlrnjB5B"
      },
      "execution_count": null,
      "outputs": []
    },
    {
      "cell_type": "code",
      "source": [
        "ids_dataset = tf.data.Dataset.from_tensor_slices(all_ids)"
      ],
      "metadata": {
        "id": "ylQfLAn9jEn9"
      },
      "execution_count": null,
      "outputs": []
    },
    {
      "cell_type": "code",
      "source": [
        "for ids in ids_dataset.take(10):\n",
        "    print(chars_from_ids(ids).numpy().decode('utf-8'))"
      ],
      "metadata": {
        "id": "kn06_LEejF5B"
      },
      "execution_count": null,
      "outputs": []
    },
    {
      "cell_type": "code",
      "source": [
        "seq_length = 100"
      ],
      "metadata": {
        "id": "bstvdsvojHQu"
      },
      "execution_count": null,
      "outputs": []
    },
    {
      "cell_type": "markdown",
      "source": [
        "Metode batch memungkinkan Anda dengan mudah mengonversi karakter individual ini menjadi urutan ukuran yang diinginkan."
      ],
      "metadata": {
        "id": "RXCV0bMDjIqd"
      }
    },
    {
      "cell_type": "code",
      "source": [
        "sequences = ids_dataset.batch(seq_length+1, drop_remainder=True)\n",
        "\n",
        "for seq in sequences.take(1):\n",
        "  print(chars_from_ids(seq))"
      ],
      "metadata": {
        "id": "64Q7xG-1jKMx"
      },
      "execution_count": null,
      "outputs": []
    },
    {
      "cell_type": "markdown",
      "source": [
        "sequences = ids_dataset.batch(seq_length+1, drop_remainder=True)\n",
        "\n",
        "for seq in sequences.take(1):\n",
        "  print(chars_from_ids(seq))"
      ],
      "metadata": {
        "id": "Dl1RNXudjMAH"
      }
    },
    {
      "cell_type": "code",
      "source": [
        "for seq in sequences.take(5):\n",
        "    print(text_from_ids(seq).numpy())"
      ],
      "metadata": {
        "id": "OR9KaaSFjMd5"
      },
      "execution_count": null,
      "outputs": []
    },
    {
      "cell_type": "markdown",
      "source": [
        "Untuk pelatihan, Anda memerlukan kumpulan data pasangan (input, label). Dimana input dan label merupakan urutan. Pada setiap langkah waktu, inputnya adalah karakter saat ini dan labelnya adalah karakter berikutnya. Berikut adalah fungsi yang mengambil urutan sebagai masukan, menduplikasi, dan menggesernya untuk menyelaraskan masukan dan label untuk setiap langkah waktu:"
      ],
      "metadata": {
        "id": "CqhYBrGDjOCW"
      }
    },
    {
      "cell_type": "code",
      "source": [
        "def split_input_target(sequence):\n",
        "    input_text = sequence[:-1]\n",
        "    target_text = sequence[1:]\n",
        "    return input_text, target_text"
      ],
      "metadata": {
        "id": "yFRLLM6wjQp2"
      },
      "execution_count": null,
      "outputs": []
    },
    {
      "cell_type": "code",
      "source": [
        "split_input_target(list(\"Tensorflow\"))"
      ],
      "metadata": {
        "id": "jO0fBVJxjRNm"
      },
      "execution_count": null,
      "outputs": []
    },
    {
      "cell_type": "code",
      "source": [
        "dataset = sequences.map(split_input_target)"
      ],
      "metadata": {
        "id": "MKouhkkYjS8Y"
      },
      "execution_count": null,
      "outputs": []
    },
    {
      "cell_type": "code",
      "source": [
        "for input_example, target_example in dataset.take(1):\n",
        "    print(\"Input :\", text_from_ids(input_example).numpy())\n",
        "    print(\"Target:\", text_from_ids(target_example).numpy())"
      ],
      "metadata": {
        "id": "xzKLSQ_QjUrA"
      },
      "execution_count": null,
      "outputs": []
    },
    {
      "cell_type": "markdown",
      "source": [
        "## **Membuat Batch Training**\n",
        "\n",
        "Anda menggunakan tf.data untuk membagi teks menjadi sequence yang dapat diatur. Namun sebelum memasukkan data ini ke dalam model, Anda perlu mengacak data dan mengemasnya ke dalam batch."
      ],
      "metadata": {
        "id": "_WNkEIwgjWrg"
      }
    },
    {
      "cell_type": "code",
      "source": [
        "# Batch size\n",
        "BATCH_SIZE = 64\n",
        "\n",
        "# Buffer size to shuffle the dataset\n",
        "# (TF data is designed to work with possibly infinite sequences,\n",
        "# so it doesn't attempt to shuffle the entire sequence in memory. Instead,\n",
        "# it maintains a buffer in which it shuffles elements).\n",
        "BUFFER_SIZE = 10000\n",
        "\n",
        "dataset = (\n",
        "    dataset\n",
        "    .shuffle(BUFFER_SIZE)\n",
        "    .batch(BATCH_SIZE, drop_remainder=True)\n",
        "    .prefetch(tf.data.experimental.AUTOTUNE))\n",
        "\n",
        "dataset"
      ],
      "metadata": {
        "id": "_iSGi5KYjawC"
      },
      "execution_count": null,
      "outputs": []
    },
    {
      "cell_type": "markdown",
      "source": [
        "# **Buat Model**\n",
        "\n",
        "Bagian ini mendefinisikan model sebagai subkelas keras.Model (untuk lebih detilnya, lihat Making new Layers and Models via subclassing).\n",
        "\n",
        "Model yang kita bangun memiliki 3 lapisan neural network :\n",
        "- tf.keras.layers.Embedding: Lapisan masukan. Tabel pencarian yang dapat dilatih yang akan memetakan setiap karakter-ID ke vektor dengan dimensi embedding_dim;\n",
        "- tf.keras.layers.GRU: lapisan RNN dengan ukuran unit=rnn_units (Anda juga dapat menggunakan lapisan LSTM di sini.)\n",
        "- tf.keras.layers.Dense: Lapisan keluaran, dengan keluaran vocab_size. Ini menghasilkan satu logit untuk setiap karakter dalam kosakata. Ini adalah log kemungkinan setiap karakter menurut model."
      ],
      "metadata": {
        "id": "uSkknLXZjfwe"
      }
    },
    {
      "cell_type": "code",
      "source": [
        "# Length of the vocabulary in StringLookup Layer\n",
        "vocab_size = len(ids_from_chars.get_vocabulary())\n",
        "\n",
        "# The embedding dimension\n",
        "embedding_dim = 256\n",
        "\n",
        "# Number of RNN units\n",
        "rnn_units = 1024"
      ],
      "metadata": {
        "id": "eZKGBiYBjpay"
      },
      "execution_count": null,
      "outputs": []
    },
    {
      "cell_type": "code",
      "source": [
        "class MyModel(tf.keras.Model):\n",
        "  def __init__(self, vocab_size, embedding_dim, rnn_units):\n",
        "    super().__init__(self)\n",
        "    self.embedding = tf.keras.layers.Embedding(vocab_size, embedding_dim)\n",
        "    self.gru = tf.keras.layers.GRU(rnn_units,\n",
        "                                   return_sequences=True,\n",
        "                                   return_state=True)\n",
        "    self.dense = tf.keras.layers.Dense(vocab_size)\n",
        "\n",
        "  def call(self, inputs, states=None, return_state=False, training=False):\n",
        "    x = inputs\n",
        "    x = self.embedding(x, training=training)\n",
        "    if states is None:\n",
        "      states = self.gru.get_initial_state(x)\n",
        "    x, states = self.gru(x, initial_state=states, training=training)\n",
        "    x = self.dense(x, training=training)\n",
        "\n",
        "    if return_state:\n",
        "      return x, states\n",
        "    else:\n",
        "      return x"
      ],
      "metadata": {
        "id": "BhqWpGA3jrDU"
      },
      "execution_count": null,
      "outputs": []
    },
    {
      "cell_type": "code",
      "source": [
        "model = MyModel(\n",
        "    vocab_size=vocab_size,\n",
        "    embedding_dim=embedding_dim,\n",
        "    rnn_units=rnn_units)"
      ],
      "metadata": {
        "id": "Mllxr90AjrF-"
      },
      "execution_count": null,
      "outputs": []
    },
    {
      "cell_type": "markdown",
      "source": [
        "Untuk setiap karakter, model mencari penyematan, menjalankan GRU satu langkah waktu dengan penyematan sebagai masukan, dan menerapkan dense layer untuk menghasilkan log yang memprediksi kemungkinan log karakter berikutnya:\n",
        "\n",
        "![image.png](data:image/png;base64,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)\n",
        "\n",
        "Note: Untuk pelatihan Anda bisa menggunakan model keras.Sequential di sini. Untuk menghasilkan teks nanti, Anda harus mengelola status internal RNN. Akan lebih mudah untuk memasukkan opsi input dan output status di awal, daripada mengatur ulang arsitektur model nanti. untuk detailnya bisa dilihat Keras RNN guide.\n"
      ],
      "metadata": {
        "id": "ImRPYgMxjtqj"
      }
    },
    {
      "cell_type": "markdown",
      "source": [
        "## **Uji Model**\n",
        "Coba jalankan model dan cek apakah sidah sesuai dengan output\n",
        "pertama, cek bentuk dari output"
      ],
      "metadata": {
        "id": "e8fmEa85j6o_"
      }
    },
    {
      "cell_type": "code",
      "source": [
        "for input_example_batch, target_example_batch in dataset.take(1):\n",
        "    example_batch_predictions = model(input_example_batch)\n",
        "    print(example_batch_predictions.shape, \"# (batch_size, sequence_length, vocab_size)\")"
      ],
      "metadata": {
        "id": "jOZ24R3TjwJA"
      },
      "execution_count": null,
      "outputs": []
    },
    {
      "cell_type": "markdown",
      "source": [
        "Dalam contoh di atas, panjang urutan masukan adalah 100 tetapi model dapat dijalankan pada masukan dengan panjang berapa pun:"
      ],
      "metadata": {
        "id": "wLT_8tJ1j-4w"
      }
    },
    {
      "cell_type": "code",
      "source": [
        "model.summary()"
      ],
      "metadata": {
        "id": "kS5ScxmlkAl9"
      },
      "execution_count": null,
      "outputs": []
    },
    {
      "cell_type": "markdown",
      "source": [
        "Untuk mendapatkan prediksi aktual dari model, Anda perlu mengambil sampel dari distribusi keluaran, untuk mendapatkan indeks karakter aktual. Distribusi ini ditentukan oleh logit pada kosakata karakter. Catatan: Penting untuk mengambil sampel dari distribusi ini karena mengambil argmax dari distribusi tersebut dapat dengan mudah membuat model terjebak dalam infinote loop. Cobalah untuk contoh pertama di batch:"
      ],
      "metadata": {
        "id": "nFldKlKUkDFP"
      }
    },
    {
      "cell_type": "code",
      "source": [
        "sampled_indices = tf.random.categorical(example_batch_predictions[0], num_samples=1)\n",
        "sampled_indices = tf.squeeze(sampled_indices, axis=-1).numpy()"
      ],
      "metadata": {
        "id": "7H00xVpXkFHo"
      },
      "execution_count": null,
      "outputs": []
    },
    {
      "cell_type": "markdown",
      "source": [
        "Hal ini memberi kita, pada setiap langkah waktu, prediksi indeks karakter berikutnya:"
      ],
      "metadata": {
        "id": "EFWjlY_jkFoc"
      }
    },
    {
      "cell_type": "code",
      "source": [
        "sampled_indices"
      ],
      "metadata": {
        "id": "7AzFAanFkMhe"
      },
      "execution_count": null,
      "outputs": []
    },
    {
      "cell_type": "markdown",
      "source": [
        "Dekode kode berikut untuk melihat teks yang diprediksi oleh model tidak terlatih ini:"
      ],
      "metadata": {
        "id": "qVjS7OGxkOiS"
      }
    },
    {
      "cell_type": "code",
      "source": [
        "print(\"Input:\\n\", text_from_ids(input_example_batch[0]).numpy())\n",
        "print()\n",
        "print(\"Next Char Predictions:\\n\", text_from_ids(sampled_indices).numpy())"
      ],
      "metadata": {
        "id": "EwpTlpgOkPZP"
      },
      "execution_count": null,
      "outputs": []
    },
    {
      "cell_type": "markdown",
      "source": [
        "## **Train Model**\n",
        "Pada titik ini permasalahan dapat dianggap sebagai permasalahan klasifikasi standar. Permasalahan dapat disimpulkan dengan : Berdasarkan status RNN sebelumnya, dan masukan langkah kali ini, prediksi kelas karakter berikutnya.\n",
        "\n",
        "**Tambahan optimizer dan fungsi loss**\n",
        "\n",
        "loss function tf.keras.losses.sparse_categorical_crossentropy standar berfungsi dalam kasus ini karena diterapkan di seluruh dimensi terakhir prediksi. Karena model Anda mengembalikan logits, Anda perlu mengatur flag from_logits."
      ],
      "metadata": {
        "id": "B4wbzorRkRmw"
      }
    },
    {
      "cell_type": "code",
      "source": [
        "loss = tf.losses.SparseCategoricalCrossentropy(from_logits=True)"
      ],
      "metadata": {
        "id": "YviYRM1XkUUP"
      },
      "execution_count": null,
      "outputs": []
    },
    {
      "cell_type": "code",
      "source": [
        "example_batch_mean_loss = loss(target_example_batch, example_batch_predictions)\n",
        "print(\"Prediction shape: \", example_batch_predictions.shape, \" # (batch_size, sequence_length, vocab_size)\")\n",
        "print(\"Mean loss:        \", example_batch_mean_loss)"
      ],
      "metadata": {
        "id": "aUjv2BtYkWLw"
      },
      "execution_count": null,
      "outputs": []
    },
    {
      "cell_type": "markdown",
      "source": [
        "Model yang baru diinisialisasi tidak boleh terlalu yakin dengan dirinya sendiri, semua log keluaran harus memiliki besaran yang sama. Untuk mengonfirmasi hal ini, Anda dapat memeriksa bahwa eksponensial dari loss rata-rata harus kira-kira sama dengan ukuran kosakata. Loss yang jauh lebih tinggi berarti model tersebut yakin akan jawaban yang salah, dan memiliki inisialisasi yang buruk:"
      ],
      "metadata": {
        "id": "U63WMW06kXzx"
      }
    },
    {
      "cell_type": "code",
      "source": [
        "tf.exp(example_batch_mean_loss).numpy()"
      ],
      "metadata": {
        "id": "iKAmnX7nkZIi"
      },
      "execution_count": null,
      "outputs": []
    },
    {
      "cell_type": "markdown",
      "source": [
        "Konfigurasikan prosedur pelatihan menggunakan metode tf.keras.Model.compile. Gunakan tf.keras.optimizers.Adam dengan argumen default dan fungsi loss."
      ],
      "metadata": {
        "id": "YmCcXR0Lkbot"
      }
    },
    {
      "cell_type": "code",
      "source": [
        "model.compile(optimizer='adam', loss=loss)"
      ],
      "metadata": {
        "id": "1EnwqPkhkeaG"
      },
      "execution_count": null,
      "outputs": []
    },
    {
      "cell_type": "markdown",
      "source": [
        "**Konfigurasi Checkpoints**\n",
        "\n",
        "Gunakan tf.keras.callbacks.ModelCheckpoint untuk memastikan bahwa checkpoint disimpan selama pelatihan:"
      ],
      "metadata": {
        "id": "rIUfcbbIkfwT"
      }
    },
    {
      "cell_type": "code",
      "source": [
        "# Directory where the checkpoints will be saved\n",
        "checkpoint_dir = './training_checkpoints'\n",
        "# Name of the checkpoint files\n",
        "checkpoint_prefix = os.path.join(checkpoint_dir, \"ckpt_{epoch}\")\n",
        "\n",
        "checkpoint_callback = tf.keras.callbacks.ModelCheckpoint(\n",
        "    filepath=checkpoint_prefix,\n",
        "    save_weights_only=True)"
      ],
      "metadata": {
        "id": "_KB78yH7k6di"
      },
      "execution_count": null,
      "outputs": []
    },
    {
      "cell_type": "markdown",
      "source": [
        "**Lakukan Proses Training**\n",
        "\n",
        "Agar waktu pelatihan tidak terlalu lama, gunakan 10 epoch untuk melatih model. Di Colab, setel runtime ke GPU untuk pelatihan yang lebih cepat."
      ],
      "metadata": {
        "id": "A9ADLL8Dk8PG"
      }
    },
    {
      "cell_type": "code",
      "source": [
        "EPOCHS = 20"
      ],
      "metadata": {
        "id": "R4k84pXek9nj"
      },
      "execution_count": null,
      "outputs": []
    },
    {
      "cell_type": "code",
      "source": [
        "history = model.fit(dataset, epochs=EPOCHS, callbacks=[checkpoint_callback])"
      ],
      "metadata": {
        "id": "iquA0hkKk9qX"
      },
      "execution_count": null,
      "outputs": []
    },
    {
      "cell_type": "markdown",
      "source": [
        "## **Generate Teks**\n",
        "\n",
        "Cara termudah untuk menghasilkan teks dengan model ini adalah dengan menjalankannya dalam loop, dan menyimpan status internal model saat Anda menjalankannya.\n",
        "\n",
        "![image.png](data:image/png;base64,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)\n",
        "\n",
        "Setiap kali Anda memanggil model, Anda memasukkan beberapa teks dan state internal. Model mengembalikan prediksi untuk karakter berikutnya dan state barunya. Masukkan kembali prediksi dan state ke model untuk terus menghasilkan teks.\n",
        "\n",
        "Berikut ini membuat prediksi satu langkah:"
      ],
      "metadata": {
        "id": "WV0P0TmilTds"
      }
    },
    {
      "cell_type": "code",
      "source": [
        "class OneStep(tf.keras.Model):\n",
        "  def __init__(self, model, chars_from_ids, ids_from_chars, temperature=1.0):\n",
        "    super().__init__()\n",
        "    self.temperature = temperature\n",
        "    self.model = model\n",
        "    self.chars_from_ids = chars_from_ids\n",
        "    self.ids_from_chars = ids_from_chars\n",
        "\n",
        "    # Create a mask to prevent \"[UNK]\" from being generated.\n",
        "    skip_ids = self.ids_from_chars(['[UNK]'])[:, None]\n",
        "    sparse_mask = tf.SparseTensor(\n",
        "        # Put a -inf at each bad index.\n",
        "        values=[-float('inf')]*len(skip_ids),\n",
        "        indices=skip_ids,\n",
        "        # Match the shape to the vocabulary\n",
        "        dense_shape=[len(ids_from_chars.get_vocabulary())])\n",
        "    self.prediction_mask = tf.sparse.to_dense(sparse_mask)\n",
        "\n",
        "  @tf.function\n",
        "  def generate_one_step(self, inputs, states=None):\n",
        "    # Convert strings to token IDs.\n",
        "    input_chars = tf.strings.unicode_split(inputs, 'UTF-8')\n",
        "    input_ids = self.ids_from_chars(input_chars).to_tensor()\n",
        "\n",
        "    # Run the model.\n",
        "    # predicted_logits.shape is [batch, char, next_char_logits]\n",
        "    predicted_logits, states = self.model(inputs=input_ids, states=states,\n",
        "                                          return_state=True)\n",
        "    # Only use the last prediction.\n",
        "    predicted_logits = predicted_logits[:, -1, :]\n",
        "    predicted_logits = predicted_logits/self.temperature\n",
        "    # Apply the prediction mask: prevent \"[UNK]\" from being generated.\n",
        "    predicted_logits = predicted_logits + self.prediction_mask\n",
        "\n",
        "    # Sample the output logits to generate token IDs.\n",
        "    predicted_ids = tf.random.categorical(predicted_logits, num_samples=1)\n",
        "    predicted_ids = tf.squeeze(predicted_ids, axis=-1)\n",
        "\n",
        "    # Convert from token ids to characters\n",
        "    predicted_chars = self.chars_from_ids(predicted_ids)\n",
        "\n",
        "    # Return the characters and model state.\n",
        "    return predicted_chars, states"
      ],
      "metadata": {
        "id": "oJdPXgh9lVf7"
      },
      "execution_count": null,
      "outputs": []
    },
    {
      "cell_type": "code",
      "source": [
        "one_step_model = OneStep(model, chars_from_ids, ids_from_chars)"
      ],
      "metadata": {
        "id": "POqO96uzlYo2"
      },
      "execution_count": null,
      "outputs": []
    },
    {
      "cell_type": "markdown",
      "source": [
        "Jalankan secara berulang untuk menghasilkan beberapa teks. Melihat teks yang dihasilkan, Anda akan melihat model mengetahui kapan harus menggunakan huruf besar, membuat paragraf, dan meniru kosakata menulis seperti Shakespeare. Karena sedikitnya jumlah epoch pelatihan, model belum belajar membentuk kalimat runtut."
      ],
      "metadata": {
        "id": "6i8k2jUPl-Q4"
      }
    },
    {
      "cell_type": "code",
      "source": [
        "start = time.time()\n",
        "states = None\n",
        "next_char = tf.constant(['ROMEO:'])\n",
        "result = [next_char]\n",
        "\n",
        "for n in range(1000):\n",
        "  next_char, states = one_step_model.generate_one_step(next_char, states=states)\n",
        "  result.append(next_char)\n",
        "\n",
        "result = tf.strings.join(result)\n",
        "end = time.time()\n",
        "print(result[0].numpy().decode('utf-8'), '\\n\\n' + '_'*80)\n",
        "print('\\nRun time:', end - start)"
      ],
      "metadata": {
        "id": "tTtA9dbwmB1N"
      },
      "execution_count": null,
      "outputs": []
    },
    {
      "cell_type": "markdown",
      "source": [
        "Hal termudah yang dapat Anda lakukan untuk meningkatkan hasil adalah dengan melatihnya lebih lama (coba EPOCHS = 30). Anda juga dapat bereksperimen dengan string awal yang berbeda, mencoba menambahkan lapisan RNN lain untuk meningkatkan akurasi model, atau menyesuaikan parameter suhu untuk menghasilkan prediksi yang kurang lebih acak.\n",
        "\n",
        "Jika Anda ingin model menghasilkan teks lebih cepat, hal termudah yang dapat Anda lakukan adalah membuat teks secara batch. Pada contoh di bawah, model menghasilkan 5 keluaran dalam waktu yang hampir sama dengan waktu yang dibutuhkan untuk menghasilkan 1 keluaran di atas."
      ],
      "metadata": {
        "id": "dCfcmOszmEEk"
      }
    },
    {
      "cell_type": "code",
      "source": [
        "start = time.time()\n",
        "states = None\n",
        "next_char = tf.constant(['ROMEO:', 'ROMEO:', 'ROMEO:', 'ROMEO:', 'ROMEO:'])\n",
        "result = [next_char]\n",
        "\n",
        "for n in range(1000):\n",
        "  next_char, states = one_step_model.generate_one_step(next_char, states=states)\n",
        "  result.append(next_char)\n",
        "\n",
        "result = tf.strings.join(result)\n",
        "end = time.time()\n",
        "print(result, '\\n\\n' + '_'*80)\n",
        "print('\\nRun time:', end - start)"
      ],
      "metadata": {
        "id": "_ujplYohmEmD"
      },
      "execution_count": null,
      "outputs": []
    },
    {
      "cell_type": "markdown",
      "source": [
        "## **Ekspor Model Generator**\n",
        "\n",
        "Model satu langkah ini dapat dengan mudah disimpan dan digunakan kembali, memungkinkan Anda menggunakannya di mana pun tf.saved_model diterima."
      ],
      "metadata": {
        "id": "GsMoFtwrmIRT"
      }
    },
    {
      "cell_type": "code",
      "source": [
        "tf.saved_model.save(one_step_model, 'one_step')\n",
        "one_step_reloaded = tf.saved_model.load('one_step')"
      ],
      "metadata": {
        "id": "E4Aem-6NmUT-"
      },
      "execution_count": null,
      "outputs": []
    },
    {
      "cell_type": "code",
      "source": [
        "states = None\n",
        "next_char = tf.constant(['ROMEO:'])\n",
        "result = [next_char]\n",
        "\n",
        "for n in range(100):\n",
        "  next_char, states = one_step_reloaded.generate_one_step(next_char, states=states)\n",
        "  result.append(next_char)\n",
        "\n",
        "print(tf.strings.join(result)[0].numpy().decode(\"utf-8\"))"
      ],
      "metadata": {
        "id": "l8zrCDxqmWeG"
      },
      "execution_count": null,
      "outputs": []
    }
  ]
}