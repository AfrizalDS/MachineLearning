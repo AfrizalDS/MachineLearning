{
  "nbformat": 4,
  "nbformat_minor": 0,
  "metadata": {
    "colab": {
      "provenance": [],
      "authorship_tag": "ABX9TyMwbYHqtoEOlOEWaRVScN6I",
      "include_colab_link": true
    },
    "kernelspec": {
      "name": "python3",
      "display_name": "Python 3"
    },
    "language_info": {
      "name": "python"
    }
  },
  "cells": [
    {
      "cell_type": "markdown",
      "metadata": {
        "id": "view-in-github",
        "colab_type": "text"
      },
      "source": [
        "<a href=\"https://colab.research.google.com/github/AfrizalDS/MachineLearning/blob/Jobsheet-7/Praktikum_4.ipynb\" target=\"_parent\"><img src=\"https://colab.research.google.com/assets/colab-badge.svg\" alt=\"Open In Colab\"/></a>"
      ]
    },
    {
      "cell_type": "markdown",
      "source": [
        "# **Praktikum 4**\n",
        "Penerapan metode Self-Organizing Map (SOM) untuk segmentasi citra Lenna."
      ],
      "metadata": {
        "id": "xO3v8o32Qqlx"
      }
    },
    {
      "cell_type": "code",
      "execution_count": 2,
      "metadata": {
        "colab": {
          "base_uri": "https://localhost:8080/"
        },
        "id": "59a1uKPXQmSq",
        "outputId": "e98555ee-53b6-4307-9861-d287ad32b968"
      },
      "outputs": [
        {
          "output_type": "stream",
          "name": "stdout",
          "text": [
            "Collecting minisom\n",
            "  Downloading MiniSom-2.3.3.tar.gz (11 kB)\n",
            "  Preparing metadata (setup.py) ... \u001b[?25l\u001b[?25hdone\n",
            "Building wheels for collected packages: minisom\n",
            "  Building wheel for minisom (setup.py) ... \u001b[?25l\u001b[?25hdone\n",
            "  Created wheel for minisom: filename=MiniSom-2.3.3-py3-none-any.whl size=11706 sha256=7b54f315bf95fb3bb08ef1084571acffcca8dddb6b3479cd17f83cd50f4c4db3\n",
            "  Stored in directory: /root/.cache/pip/wheels/96/98/a5/52dee3e8ed1dbfc4d77e4da41b6d89dd7ab9ead1b921e766f8\n",
            "Successfully built minisom\n",
            "Installing collected packages: minisom\n",
            "Successfully installed minisom-2.3.3\n"
          ]
        }
      ],
      "source": [
        "pip install minisom"
      ]
    },
    {
      "cell_type": "code",
      "source": [
        "import numpy as np\n",
        "import matplotlib.pyplot as plt\n",
        "from skimage import io"
      ],
      "metadata": {
        "id": "xgTW4EW4RBOg"
      },
      "execution_count": 3,
      "outputs": []
    },
    {
      "cell_type": "code",
      "source": [
        "# Fungsi untuk menginisialisasi bobot SOM\n",
        "def initialize_weights(input_shape, output_shape):\n",
        "    return np.random.rand(output_shape[0], output_shape[1], input_shape[2])"
      ],
      "metadata": {
        "id": "og4Edh68REmC"
      },
      "execution_count": 4,
      "outputs": []
    },
    {
      "cell_type": "code",
      "source": [
        "# Fungsi untuk menghitung jarak antara vektor input dan bobot SOM\n",
        "def calculate_distance(input_vector, weights):\n",
        "    return np.linalg.norm(input_vector - weights, axis=2)"
      ],
      "metadata": {
        "id": "NwjCWmZbRGOO"
      },
      "execution_count": 5,
      "outputs": []
    },
    {
      "cell_type": "code",
      "source": [
        "# Fungsi untuk menemukan indeks unit pemenang (unit dengan bobot terdekat)\n",
        "def find_winner_unit_in_image(input_vector, weights):\n",
        "    distances = calculate_distance(input_vector, weights)\n",
        "    return np.unravel_index(np.argmin(distances), distances.shape)"
      ],
      "metadata": {
        "id": "bQhufqWvRIGM"
      },
      "execution_count": 6,
      "outputs": []
    },
    {
      "cell_type": "code",
      "source": [
        "# Fungsi untuk memperbarui bobot SOM\n",
        "def update_weights(input_vector, weights, winner, learning_rate, neighborhood_radius):\n",
        "    distances = np.linalg.norm(np.indices(weights.shape[:2]).T - np.array(winner).reshape(1, -1), axis=2)\n",
        "    influence = np.exp(-distances / (2 * neighborhood_radius**2))\n",
        "    weights += learning_rate * influence[:, :, np.newaxis] * (input_vector - weights)"
      ],
      "metadata": {
        "id": "U7mQyW3LRKG9"
      },
      "execution_count": 7,
      "outputs": []
    },
    {
      "cell_type": "code",
      "source": [
        "# Fungsi untuk melatih SOM\n",
        "def train_som(image, num_epochs, initial_learning_rate, initial_neighborhood_radius):\n",
        "    input_shape = image.shape\n",
        "    som_shape = (10, 10, input_shape[2])  # Ukuran SOM sesuai dengan jumlah saluran warna\n",
        "    weights = initialize_weights(input_shape, som_shape)\n",
        "\n",
        "    for epoch in range(num_epochs):\n",
        "        # Update parameter pembelajaran dan radius tetangga\n",
        "        learning_rate = initial_learning_rate * np.exp(-epoch / num_epochs)\n",
        "        neighborhood_radius = initial_neighborhood_radius * np.exp(-epoch / num_epochs)\n",
        "        # Pemrosesan SOM\n",
        "        for i in range(input_shape[0]):\n",
        "            for j in range(input_shape[1]):\n",
        "                input_vector = image[i, j, :]\n",
        "                winner = find_winner_unit_in_image(input_vector, weights)\n",
        "                update_weights(input_vector, weights, winner, learning_rate, neighborhood_radius)\n",
        "\n",
        "    return weights"
      ],
      "metadata": {
        "id": "bntdsMH4RNO4"
      },
      "execution_count": 8,
      "outputs": []
    },
    {
      "cell_type": "code",
      "source": [
        "from skimage import io, transform\n",
        "# Load citra Lenna (Anda bisa mengganti ini dengan citra lain jika diperlukan)\n",
        "img_path = \"/content/drive/MyDrive/PCVK_IMAGE/Kucing2.jpg\"\n",
        "img = io.imread(img_path) / 255.0  # Normalisasi intensitas piksel menjadi rentang [0, 1]\n",
        "# Resize citra agar latih SOM lebih cepat (misalnya 64x64)\n",
        "img_resized = transform.resize(img, (64, 64))"
      ],
      "metadata": {
        "id": "vlMpiG0ZROy6"
      },
      "execution_count": 15,
      "outputs": []
    },
    {
      "cell_type": "code",
      "source": [
        "# Latih SOM\n",
        "num_epochs = 100\n",
        "initial_learning_rate = 0.1\n",
        "initial_neighborhood_radius = 5\n",
        "trained_weights = train_som(img_resized, num_epochs, initial_learning_rate, initial_neighborhood_radius)"
      ],
      "metadata": {
        "id": "scD2iZAARo3e"
      },
      "execution_count": 18,
      "outputs": []
    },
    {
      "cell_type": "code",
      "source": [
        "# Visualisasi bobot SOM\n",
        "plt.imshow(trained_weights)\n",
        "plt.title('Trained SOM Weights for Kocheng')\n",
        "plt.show()"
      ],
      "metadata": {
        "colab": {
          "base_uri": "https://localhost:8080/",
          "height": 452
        },
        "id": "-faZNmvTcnHI",
        "outputId": "bf55574b-be93-49fa-da5a-4906669dd6c8"
      },
      "execution_count": 20,
      "outputs": [
        {
          "output_type": "display_data",
          "data": {
            "text/plain": [
              "<Figure size 640x480 with 1 Axes>"
            ],
            "image/png": "[encoded data removed]"
          },
          "metadata": {}
        }
      ]
    }
  ]
}